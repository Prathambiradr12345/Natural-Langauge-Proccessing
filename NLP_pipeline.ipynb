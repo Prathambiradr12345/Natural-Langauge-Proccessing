{
  "nbformat": 4,
  "nbformat_minor": 0,
  "metadata": {
    "colab": {
      "provenance": [],
      "authorship_tag": "ABX9TyMxv8kNzHa97GFai7v1BzDu",
      "include_colab_link": true
    },
    "kernelspec": {
      "name": "python3",
      "display_name": "Python 3"
    },
    "language_info": {
      "name": "python"
    }
  },
  "cells": [
    {
      "cell_type": "markdown",
      "metadata": {
        "id": "view-in-github",
        "colab_type": "text"
      },
      "source": [
        "<a href=\"https://colab.research.google.com/github/Prathambiradr12345/Natural-Langauge-Proccessing/blob/main/NLP_pipeline.ipynb\" target=\"_parent\"><img src=\"https://colab.research.google.com/assets/colab-badge.svg\" alt=\"Open In Colab\"/></a>"
      ]
    },
    {
      "cell_type": "code",
      "execution_count": null,
      "metadata": {
        "id": "pNZJNjYOKuGi"
      },
      "outputs": [],
      "source": [
        "#nlp pipeline steps\n",
        "#data Acquisition,Text Preparation=Text Cleanup,Basic Preproccesing,advance preproccesing,Feature enginnering,Modelling=Nodel building,Evaluation,Deployment=deployment,monitoring,model update\n",
        "#data Acquisation =Data apke company pass available hai,Data kiske pass nahi hai,data apke company ke bahar available hai\n",
        "#basic Preproccesing=tokenization,stop word removal,stemming,Lower casing.\n",
        "#Advance Preproccessing=Parts of speech,Co-reference resolution,parsing.\n",
        "#feature engineering=review_text,sentitememnt\n",
        "#modeling=heurastic,ml algo,dl\n",
        "#deployment=monitoring,update"
      ]
    },
    {
      "cell_type": "code",
      "source": [],
      "metadata": {
        "id": "vK9co2IuhkGq"
      },
      "execution_count": null,
      "outputs": []
    }
  ]
}